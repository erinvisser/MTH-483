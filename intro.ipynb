{
 "cells": [
  {
   "cell_type": "markdown",
   "metadata": {},
   "source": [
    "# __Introduction__"
   ]
  },
  {
   "cell_type": "markdown",
   "metadata": {},
   "source": [
    "- late policy: \n",
    "    - reduction within 48 hours\n",
    "    - not accepted after that, unless excused\n",
    "- final exam on 4-24\n",
    "    - short answer, maybe some programming\n",
    "- 4.0 = 90%\n",
    "    - potential for curve \n",
    "- won't be a hard class!! \n",
    "    - exam won't be hard\n",
    "- exam will be closed note\n",
    "- notebooks will be posted on d2l after each part is completed"
   ]
  },
  {
   "cell_type": "markdown",
   "metadata": {},
   "source": [
    "## Artificial intelligence, Machine learning, and Deep Learning"
   ]
  },
  {
   "cell_type": "markdown",
   "metadata": {},
   "source": [
    "- DL is a subset of ML, ML is a subset of AI\n",
    "- ML = study of algorithms that can learn from data and can improve performance using more info\n",
    "    - study of data driven methods that formulate models using data\n",
    "    - usually applied to situations where it is hard to define rules by hand\n",
    "        - face detection, speech recognition\n",
    "    - est. 1959\n",
    "- AI = intelligence exhibited by machines\n",
    "    - develops and studies methods and software that enables machines to perceive their environment and use learning and intelligence to take actions that maximize their chances of achieving defined goals\n",
    "- DL = considers ML algorithms that learn from data and use multiple layers corresponding to different levels of abstraction and hierarchy of concepts"
   ]
  },
  {
   "cell_type": "markdown",
   "metadata": {},
   "source": [
    "## Defining the learning task"
   ]
  },
  {
   "cell_type": "markdown",
   "metadata": {},
   "source": [
    "- Improve on task (T), with respect to performance metric (P), based on experience (E)\n",
    "- ex.\n",
    "    - T = categorize emails as spam or legit\n",
    "    - P = percent of emails correctly classified\n",
    "    - E = database of emails, some with human-given labels"
   ]
  },
  {
   "cell_type": "markdown",
   "metadata": {},
   "source": [
    "## Applications"
   ]
  },
  {
   "cell_type": "markdown",
   "metadata": {},
   "source": [
    "- medical diagnosis\n",
    "- economics\n",
    "- classifying DNA sequences\n",
    "- internet fraud detection\n",
    "- email filtering\n",
    "- speech recognition\n",
    "- document classification\n",
    "- self driving cars"
   ]
  },
  {
   "cell_type": "markdown",
   "metadata": {},
   "source": [
    "## Steps of machine learning and important definitions"
   ]
  },
  {
   "cell_type": "markdown",
   "metadata": {},
   "source": [
    "70% training, 10% validation, 20% testing\n",
    "- training data = set of examples used during the learning process to obtain a model and fit the parameters\n",
    "    - has labels\n",
    "    - model learns the task\n",
    "-  validation set = set of examples (diff from training and test) which are used to tune the parameters\n",
    "    - different models are trained and then the validation set is used to pick the best model\n",
    "    - used to finalize your model before testing\n",
    "    - don't always have this set\n",
    "    - which model is the best?\n",
    "- test data = set of examples that are independent of the training data, which are used to assess the model performance\n",
    "    - how good is this model?\n",
    "\n"
   ]
  },
  {
   "cell_type": "markdown",
   "metadata": {},
   "source": [
    "Steps:\n",
    "1. train different models using the training set\n",
    "2. pick the best model and tune the parameters using the validation set\n",
    "3. test the model using the test set"
   ]
  },
  {
   "cell_type": "markdown",
   "metadata": {},
   "source": [
    "## Tasks of machine learning"
   ]
  },
  {
   "cell_type": "markdown",
   "metadata": {},
   "source": [
    "- classification = dividing the data into a number of classes using some labeled data\n",
    "    - dividing email into spam vs. not\n",
    "- regression = estimating relationships among dependent and independent variables\n",
    "    - finding a best fit line among points\n",
    "    - useful for prediction\n",
    "- clustering = grouping objects into groups (unlike classification, there is no labeled data)\n",
    "    - each element within a cluster is similar, and dissimilar to elements in other clusters\n",
    "- dimension reduction = reducing the space of the data, usually for computational purposes\n",
    "    - save time and computing power, while still keeping most of the data\n",
    "- anomaly detection = detecting objects that are different from the rest and don't fit the expected pattern of the data\n",
    "    - binary classification: abnormal and not\n",
    "    - detecting abnormal medical scans\n",
    "- density estimation = the construction of an estimate, based on observed data, of an unobservable underlying probability density function"
   ]
  },
  {
   "cell_type": "markdown",
   "metadata": {},
   "source": [
    "## Categories of machine learning"
   ]
  },
  {
   "cell_type": "markdown",
   "metadata": {},
   "source": [
    "- Supervised = all training data is labeled\n",
    "    - classification\n",
    "    - regression\n",
    "- Semi-supervised = most of training data is unlabeled, but some is labeled\n",
    "- Unsupervised = no labels are given for the training data\n",
    "    - clustering\n",
    "- Reinforcement = model take actions in the environment then receive state updates and feedbacks\n",
    "    - learn from the feedback and then update the model accordingly\n",
    "    - technique that teaches software to make decisions that maximize rewards\n",
    "    - usies a reward and punishment system to teach software how to learn through experience, rather than using a training dataset with predefined answers"
   ]
  },
  {
   "cell_type": "markdown",
   "metadata": {},
   "source": [
    "Labeled data is scarce because it can be time-consuming and expensive. However, unlabeled data is usually easy to find. This is an advantage of semi-supervised and unsupervised learning."
   ]
  },
  {
   "cell_type": "markdown",
   "metadata": {},
   "source": [
    "Most, but not all, deep learning algorithms come in a supervised framework. Thus, most deep learning methods need a lot of labeled data, although with sufficient labeled examples, they can perform very well. In fact, with a good number of labeled examples, deep learning methods attain state-of-the-art accuracy."
   ]
  },
  {
   "cell_type": "markdown",
   "metadata": {},
   "source": [
    "## Overfitting and underfitting"
   ]
  },
  {
   "cell_type": "markdown",
   "metadata": {},
   "source": [
    "- overfitting = occurs when the model learns the training data so well that it performs poorly on unseen data\n",
    "- underfitting = occurs when the model is too simple and poorly represents the complete picture of the predominant data pattern"
   ]
  },
  {
   "cell_type": "markdown",
   "metadata": {},
   "source": [
    "## Challenges of machine learning"
   ]
  },
  {
   "cell_type": "markdown",
   "metadata": {},
   "source": [
    "- not enough labeled data (or data in general). labeled data is usually expensive or time-consuming to obtain.\n",
    "- poor quality of data\n",
    "- irrelevent or unwanted features (i.e. descriptions of data)\n",
    "- underfitting (model is too simple)\n",
    "- overfitting (model fits training data well, but fails to generalize to unseen elements)\n",
    "- some methods are computationally expensive"
   ]
  },
  {
   "cell_type": "markdown",
   "metadata": {},
   "source": [
    "## Evaluation of machine learning methods"
   ]
  },
  {
   "cell_type": "markdown",
   "metadata": {},
   "source": [
    "- accuracy\n",
    "- precision and recall\n",
    "- squared error\n",
    "- likelihood\n",
    "- posterior probability\n",
    "- cost / utility\n",
    "- margin\n",
    "- entropy\n",
    "- K-L divergence\n",
    "- etc."
   ]
  },
  {
   "cell_type": "markdown",
   "metadata": {},
   "source": [
    "- TP, FP, FN, TN:\n",
    "    - true / false = whether or not it got classified correctly\n",
    "    - positive / negative = what it got classified as"
   ]
  },
  {
   "cell_type": "markdown",
   "metadata": {},
   "source": [
    "Accuracy = (true pos + true neg) / (total)"
   ]
  },
  {
   "cell_type": "markdown",
   "metadata": {},
   "source": [
    "Precision = (true pos) / (true pos + false pos)"
   ]
  },
  {
   "cell_type": "markdown",
   "metadata": {},
   "source": [
    "Recall = (true pos) / (true pos + false neg)"
   ]
  }
 ],
 "metadata": {
  "language_info": {
   "name": "python"
  }
 },
 "nbformat": 4,
 "nbformat_minor": 2
}
